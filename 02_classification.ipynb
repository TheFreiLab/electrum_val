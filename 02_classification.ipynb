{
 "cells": [
  {
   "cell_type": "code",
   "execution_count": 1,
   "metadata": {},
   "outputs": [],
   "source": [
    "import numpy as np \n",
    "import pandas as pd \n",
    "\n",
    "from electrum import calculate_fingerprints\n",
    "import electrum_os\n",
    "\n",
    "from sklearn.model_selection import  KFold\n",
    "from sklearn.neural_network import MLPClassifier\n",
    "from sklearn.preprocessing import LabelBinarizer\n",
    "from sklearn.metrics import roc_auc_score, accuracy_score, precision_score, recall_score, f1_score"
   ]
  },
  {
   "cell_type": "markdown",
   "metadata": {},
   "source": [
    "#### Preliminary function definitions"
   ]
  },
  {
   "cell_type": "markdown",
   "metadata": {},
   "source": [
    "Calculate metrics"
   ]
  },
  {
   "cell_type": "code",
   "execution_count": 2,
   "metadata": {},
   "outputs": [],
   "source": [
    "def calculate_metrics(y_true, y_pred, y_true_onehot, y_onehot):\n",
    "\n",
    "    roc_auc_ovr_macro = roc_auc_score(y_true_onehot, y_onehot, average='macro', multi_class='ovr')\n",
    "    roc_auc_ovr_weighted = roc_auc_score(y_true_onehot, y_onehot, average='weighted', multi_class='ovr')\n",
    "    accuracy = accuracy_score(y_true, y_pred)\n",
    "    precision_macro = precision_score(y_true, y_pred, average='macro')\n",
    "    precision_weighted = precision_score(y_true, y_pred, average='weighted')\n",
    "    recall_macro = recall_score(y_true, y_pred, average='macro')\n",
    "    recall_weighted = recall_score(y_true, y_pred, average='weighted')\n",
    "    f1_macro = f1_score(y_true, y_pred, average='macro')\n",
    "    f1_weighted = f1_score(y_true, y_pred, average='weighted')\n",
    "\n",
    "    columns = ['roc_auc_ovr_macro', 'roc_auc_ovr_weighted', 'accuracy', 'precision_macro', 'precision_weighted', 'recall_macro', 'recall_weighted', 'f1_macro', 'f1_weighted']\n",
    "    metrics = [roc_auc_ovr_macro, roc_auc_ovr_weighted, accuracy, precision_macro, precision_weighted, recall_macro, recall_weighted, f1_macro, f1_weighted]\n",
    "\n",
    "    return columns, metrics"
   ]
  },
  {
   "cell_type": "markdown",
   "metadata": {},
   "source": [
    "#### Oxidation States"
   ]
  },
  {
   "cell_type": "markdown",
   "metadata": {},
   "source": [
    "Import dataset"
   ]
  },
  {
   "cell_type": "code",
   "execution_count": 3,
   "metadata": {},
   "outputs": [],
   "source": [
    "oxidationstate = pd.read_csv('datasets/oxidationstate_46k.csv', dtype={'oxidation_states': str})\n",
    "oxidationstate.drop_duplicates(subset='smiles', inplace=True)"
   ]
  },
  {
   "cell_type": "markdown",
   "metadata": {},
   "source": [
    "Calculate fingerprints and prepare for training"
   ]
  },
  {
   "cell_type": "code",
   "execution_count": null,
   "metadata": {},
   "outputs": [],
   "source": [
    "np.random.seed(42)\n",
    "\n",
    "X = np.array(calculate_fingerprints(oxidationstate['LigandSmiles'], oxidationstate['Metal'], radius=2, n_bits=512))\n",
    "y = np.array(oxidationstate['oxidation_states_classification'])\n",
    "y_scrambled = np.random.permutation(y)"
   ]
  },
  {
   "cell_type": "markdown",
   "metadata": {},
   "source": [
    "5-fold cross-validation: scrambled labels"
   ]
  },
  {
   "cell_type": "code",
   "execution_count": null,
   "metadata": {},
   "outputs": [],
   "source": [
    "kf = KFold(n_splits=5, shuffle=True, random_state=42)\n",
    "mlp = MLPClassifier(hidden_layer_sizes=(512, 256, 128, 64, 32), max_iter=1000, random_state=42)\n",
    "\n",
    "os_scrambled = pd.DataFrame()\n",
    "for train, test in kf.split(X):\n",
    "    \n",
    "    # Fit model\n",
    "    mlp.fit(X[train], y_scrambled[train])\n",
    "\n",
    "    # Predict\n",
    "    y_pred = mlp.predict(X[test])\n",
    "\n",
    "    # Reshape y_true and y_pred to onehot\n",
    "    label_binarizer = LabelBinarizer().fit(y_scrambled[train])\n",
    "    y_true_onehot = label_binarizer.transform(y_scrambled[test])\n",
    "    y_pred_onehot = label_binarizer.transform(y_pred)\n",
    "\n",
    "    # Calculate metrics\n",
    "    columns, metrics = calculate_metrics(y_scrambled[test], y_pred, y_true_onehot, y_pred_onehot)\n",
    "    os_scrambled = pd.concat([os_scrambled, pd.DataFrame([metrics], columns=columns)], ignore_index=True)"
   ]
  },
  {
   "cell_type": "code",
   "execution_count": null,
   "metadata": {},
   "outputs": [],
   "source": [
    "mean_row = os_scrambled.mean()\n",
    "std_row = os_scrambled.std()\n",
    "os_scrambled = pd.concat([os_scrambled, mean_row.to_frame().T, std_row.to_frame().T], ignore_index=True)\n",
    "os_scrambled.index = ['Fold 1', 'Fold 2', 'Fold 3', 'Fold 4', 'Fold 5', 'Mean', 'Std']\n",
    "os_scrambled.to_csv('results/oxidationstate_46k_mlp_scrambled.csv', index=False)"
   ]
  },
  {
   "cell_type": "markdown",
   "metadata": {},
   "source": [
    "5-fold cross-validation: true labels"
   ]
  },
  {
   "cell_type": "code",
   "execution_count": null,
   "metadata": {},
   "outputs": [],
   "source": [
    "kf = KFold(n_splits=5, shuffle=True, random_state=42)\n",
    "mlp = MLPClassifier(hidden_layer_sizes=(512, 256, 128, 64, 32), max_iter=1000, random_state=42)\n",
    "\n",
    "os_true = pd.DataFrame()\n",
    "for train, test in kf.split(X):\n",
    "    \n",
    "    # Fit model\n",
    "    mlp.fit(X[train], y[train])\n",
    "\n",
    "    # Predict\n",
    "    y_pred = mlp.predict(X[test])\n",
    "\n",
    "    # Reshape y_true and y_pred to onehot\n",
    "    label_binarizer = LabelBinarizer().fit(y[train])\n",
    "    y_true_onehot = label_binarizer.transform(y[test])\n",
    "    y_pred_onehot = label_binarizer.transform(y_pred)\n",
    "\n",
    "    # Calculate metrics\n",
    "    columns, metrics = calculate_metrics(y[test], y_pred, y_true_onehot, y_pred_onehot)\n",
    "    os_true = pd.concat([os_true, pd.DataFrame([metrics], columns=columns)], ignore_index=True)"
   ]
  },
  {
   "cell_type": "code",
   "execution_count": null,
   "metadata": {},
   "outputs": [],
   "source": [
    "mean_row = os_true.mean()\n",
    "std_row = os_true.std()\n",
    "os_true = pd.concat([os_true, mean_row.to_frame().T, std_row.to_frame().T], ignore_index=True)\n",
    "os_true.index = ['Fold 1', 'Fold 2', 'Fold 3', 'Fold 4', 'Fold 5', 'Mean', 'Std']\n",
    "os_true.to_csv('results/oxidationstate_46k_mlp_true.csv', index=False)"
   ]
  },
  {
   "cell_type": "markdown",
   "metadata": {},
   "source": [
    "#### Coordination numbers on Oxidation State Dataset"
   ]
  },
  {
   "cell_type": "markdown",
   "metadata": {},
   "source": [
    "Calculate fingerprints and prepare for training"
   ]
  },
  {
   "cell_type": "code",
   "execution_count": 27,
   "metadata": {},
   "outputs": [],
   "source": [
    "np.random.seed(42)\n",
    "\n",
    "classes_to_keep = [2, 3, 4, 5, 6, 7, 8, 9, 10, 11, 12, 13]\n",
    "\n",
    "X = np.array(calculate_fingerprints(oxidationstate['LigandSmiles'], oxidationstate['Metal'], radius=2, n_bits=512))\n",
    "y = np.array(oxidationstate['bondorder'].values.tolist())\n",
    "\n",
    "mask = np.isin(y, classes_to_keep)\n",
    "X = X[mask]\n",
    "y = y[mask]"
   ]
  },
  {
   "cell_type": "markdown",
   "metadata": {},
   "source": [
    "5-fold cross-validation: true labels"
   ]
  },
  {
   "cell_type": "code",
   "execution_count": 28,
   "metadata": {},
   "outputs": [],
   "source": [
    "kf = KFold(n_splits=5, shuffle=True, random_state=42)\n",
    "mlp = MLPClassifier(hidden_layer_sizes=(512, 256, 128, 64, 32), max_iter=1000, random_state=42)\n",
    "\n",
    "bo_true = pd.DataFrame()\n",
    "for train, test in kf.split(X):\n",
    "    \n",
    "    # Fit model\n",
    "    mlp.fit(X[train], y[train])\n",
    "\n",
    "    # Predict\n",
    "    y_pred = mlp.predict(X[test])\n",
    "\n",
    "    # Reshape y_true and y_pred to onehot\n",
    "    label_binarizer = LabelBinarizer().fit(y[train])\n",
    "    y_true_onehot = label_binarizer.transform(y[test])\n",
    "    y_pred_onehot = label_binarizer.transform(y_pred)\n",
    "\n",
    "    # Calculate metrics\n",
    "    columns, metrics = calculate_metrics(y[test], y_pred, y_true_onehot, y_pred_onehot)\n",
    "    bo_true = pd.concat([bo_true, pd.DataFrame([metrics], columns=columns)], ignore_index=True)"
   ]
  },
  {
   "cell_type": "code",
   "execution_count": 30,
   "metadata": {},
   "outputs": [],
   "source": [
    "mean_row = bo_true.mean()\n",
    "std_row = bo_true.std()\n",
    "bo_true = pd.concat([bo_true, mean_row.to_frame().T, std_row.to_frame().T], ignore_index=True)\n",
    "bo_true.index = ['Fold 1', 'Fold 2', 'Fold 3', 'Fold 4', 'Fold 5', 'Mean', 'Std']\n",
    "bo_true.to_csv('results/oxidationstate_bo_normalelectrum_true.csv', index=False)"
   ]
  },
  {
   "cell_type": "markdown",
   "metadata": {},
   "source": [
    "Modified ELECTRUM with oxidation states"
   ]
  },
  {
   "cell_type": "code",
   "execution_count": 31,
   "metadata": {},
   "outputs": [],
   "source": [
    "oxidationstate['OS'] = oxidationstate['oxidation_states'].apply(lambda x: int(x))"
   ]
  },
  {
   "cell_type": "code",
   "execution_count": 34,
   "metadata": {},
   "outputs": [],
   "source": [
    "np.random.seed(42)\n",
    "\n",
    "classes_to_keep = [2, 3, 4, 5, 6, 7, 8, 9, 10, 11, 12, 13]\n",
    "\n",
    "X = np.array([electrum_os.calculate_fingerprint(row['LigandSmiles'], row['Metal'], row['OS'], radius=2, n_bits=512) for index, row in oxidationstate.iterrows()])\n",
    "y = np.array(oxidationstate['bondorder'])\n",
    "\n",
    "mask = np.isin(y, classes_to_keep)\n",
    "X = X[mask]\n",
    "y = y[mask]"
   ]
  },
  {
   "cell_type": "markdown",
   "metadata": {},
   "source": [
    "5-fold cross-validation: true labels and os-augmented electrum"
   ]
  },
  {
   "cell_type": "code",
   "execution_count": 35,
   "metadata": {},
   "outputs": [],
   "source": [
    "kf = KFold(n_splits=5, shuffle=True, random_state=42)\n",
    "mlp = MLPClassifier(hidden_layer_sizes=(512, 256, 128, 64, 32), max_iter=1000, random_state=42)\n",
    "\n",
    "os_true = pd.DataFrame()\n",
    "for train, test in kf.split(X):\n",
    "    \n",
    "    # Fit model\n",
    "    mlp.fit(X[train], y[train])\n",
    "\n",
    "    # Predict\n",
    "    y_pred = mlp.predict(X[test])\n",
    "\n",
    "    # Reshape y_true and y_pred to onehot\n",
    "    label_binarizer = LabelBinarizer().fit(y[train])\n",
    "    y_true_onehot = label_binarizer.transform(y[test])\n",
    "    y_pred_onehot = label_binarizer.transform(y_pred)\n",
    "\n",
    "    # Calculate metrics\n",
    "    columns, metrics = calculate_metrics(y[test], y_pred, y_true_onehot, y_pred_onehot)\n",
    "    os_true = pd.concat([os_true, pd.DataFrame([metrics], columns=columns)], ignore_index=True)"
   ]
  },
  {
   "cell_type": "code",
   "execution_count": 36,
   "metadata": {},
   "outputs": [],
   "source": [
    "mean_row = os_true.mean()\n",
    "std_row = os_true.std()\n",
    "os_true = pd.concat([os_true, mean_row.to_frame().T, std_row.to_frame().T], ignore_index=True)\n",
    "os_true.index = ['Fold 1', 'Fold 2', 'Fold 3', 'Fold 4', 'Fold 5', 'Mean', 'Std']\n",
    "os_true.to_csv('results/oxidationstate_bo_oselectrum_true.csv', index=False)"
   ]
  },
  {
   "cell_type": "markdown",
   "metadata": {},
   "source": [
    "#### Coordination numbers"
   ]
  },
  {
   "cell_type": "markdown",
   "metadata": {},
   "source": [
    "Import dataset"
   ]
  },
  {
   "cell_type": "code",
   "execution_count": null,
   "metadata": {},
   "outputs": [],
   "source": [
    "coordnumber = pd.read_csv('datasets/coordnumber.csv')"
   ]
  },
  {
   "cell_type": "markdown",
   "metadata": {},
   "source": [
    "Calculate fingerprints"
   ]
  },
  {
   "cell_type": "code",
   "execution_count": null,
   "metadata": {},
   "outputs": [],
   "source": [
    "np.random.seed(42)\n",
    "\n",
    "X = np.array(calculate_fingerprints(coordnumber['LigandSmiles'], coordnumber['Metal'], radius=2, n_bits=512))\n",
    "y = np.array(coordnumber['bondorder'])\n",
    "y_scrambled = np.random.permutation(y)"
   ]
  },
  {
   "cell_type": "markdown",
   "metadata": {},
   "source": [
    "5-fold cross-validation: scrambled labels"
   ]
  },
  {
   "cell_type": "code",
   "execution_count": null,
   "metadata": {},
   "outputs": [],
   "source": [
    "kf = KFold(n_splits=5, shuffle=True, random_state=42)\n",
    "mlp = MLPClassifier(hidden_layer_sizes=(512, 256, 128, 64, 32), max_iter=1000, random_state=42)\n",
    "\n",
    "bo_scrambled = pd.DataFrame()\n",
    "for train, test in kf.split(X):\n",
    "    \n",
    "    # Fit model\n",
    "    mlp.fit(X[train], y_scrambled[train])\n",
    "\n",
    "    # Predict\n",
    "    y_pred = mlp.predict(X[test])\n",
    "\n",
    "    # Reshape y_true and y_pred to onehot\n",
    "    label_binarizer = LabelBinarizer().fit(y_scrambled[train])\n",
    "    y_true_onehot = label_binarizer.transform(y_scrambled[test])\n",
    "    y_pred_onehot = label_binarizer.transform(y_pred)\n",
    "\n",
    "    # Calculate metrics\n",
    "    columns, metrics = calculate_metrics(y_scrambled[test], y_pred, y_true_onehot, y_pred_onehot)\n",
    "    bo_scrambled = pd.concat([bo_scrambled, pd.DataFrame([metrics], columns=columns)], ignore_index=True)"
   ]
  },
  {
   "cell_type": "code",
   "execution_count": null,
   "metadata": {},
   "outputs": [],
   "source": [
    "mean_row = bo_scrambled.mean()\n",
    "std_row = bo_scrambled.std()\n",
    "bo_scrambled = pd.concat([bo_scrambled, mean_row.to_frame().T, std_row.to_frame().T], ignore_index=True)\n",
    "bo_scrambled.index = ['Fold 1', 'Fold 2', 'Fold 3', 'Fold 4', 'Fold 5', 'Mean', 'Std']\n",
    "bo_scrambled.to_csv('results/coordnumber_mlp_scrambled.csv', index=False)"
   ]
  },
  {
   "cell_type": "markdown",
   "metadata": {},
   "source": [
    "5-fold cross-validation: true labels"
   ]
  },
  {
   "cell_type": "code",
   "execution_count": null,
   "metadata": {},
   "outputs": [],
   "source": [
    "kf = KFold(n_splits=5, shuffle=True, random_state=42)\n",
    "mlp = MLPClassifier(hidden_layer_sizes=(512, 256, 128, 64, 32), max_iter=1000, random_state=42)\n",
    "\n",
    "bo_true = pd.DataFrame()\n",
    "for train, test in kf.split(X):\n",
    "    \n",
    "    # Fit model\n",
    "    mlp.fit(X[train], y[train])\n",
    "\n",
    "    # Predict\n",
    "    y_pred = mlp.predict(X[test])\n",
    "\n",
    "    # Reshape y_true and y_pred to onehot\n",
    "    label_binarizer = LabelBinarizer().fit(y[train])\n",
    "    y_true_onehot = label_binarizer.transform(y[test])\n",
    "    y_pred_onehot = label_binarizer.transform(y_pred)\n",
    "\n",
    "    # Calculate metrics\n",
    "    columns, metrics = calculate_metrics(y[test], y_pred, y_true_onehot, y_pred_onehot)\n",
    "    bo_true = pd.concat([bo_true, pd.DataFrame([metrics], columns=columns)], ignore_index=True)"
   ]
  },
  {
   "cell_type": "code",
   "execution_count": null,
   "metadata": {},
   "outputs": [],
   "source": [
    "mean_row = bo_true.mean()\n",
    "std_row = bo_true.std()\n",
    "bo_true = pd.concat([bo_true, mean_row.to_frame().T, std_row.to_frame().T], ignore_index=True)\n",
    "bo_true.index = ['Fold 1', 'Fold 2', 'Fold 3', 'Fold 4', 'Fold 5', 'Mean', 'Std']\n",
    "bo_true.to_csv('results/coordnumber_mlp_true.csv', index=False)"
   ]
  }
 ],
 "metadata": {
  "kernelspec": {
   "display_name": "chemical_space",
   "language": "python",
   "name": "python3"
  },
  "language_info": {
   "codemirror_mode": {
    "name": "ipython",
    "version": 3
   },
   "file_extension": ".py",
   "mimetype": "text/x-python",
   "name": "python",
   "nbconvert_exporter": "python",
   "pygments_lexer": "ipython3",
   "version": "3.11.9"
  }
 },
 "nbformat": 4,
 "nbformat_minor": 2
}
