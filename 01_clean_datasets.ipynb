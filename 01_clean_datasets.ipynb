{
 "cells": [
  {
   "cell_type": "code",
   "execution_count": 1,
   "metadata": {},
   "outputs": [],
   "source": [
    "import os\n",
    "import re\n",
    "import numpy as np \n",
    "import pandas as pd \n",
    "\n",
    "from rdkit import Chem\n",
    "from rdkit import RDLogger\n",
    "RDLogger.DisableLog('rdApp.*')"
   ]
  },
  {
   "cell_type": "markdown",
   "metadata": {},
   "source": [
    "#### Dataset: coordination number classification"
   ]
  },
  {
   "cell_type": "markdown",
   "metadata": {},
   "source": [
    "Import raw data"
   ]
  },
  {
   "cell_type": "code",
   "execution_count": 2,
   "metadata": {},
   "outputs": [],
   "source": [
    "coordnumber = pd.DataFrame()\n",
    "for file in os.listdir('data/raw_data/'):\n",
    "    if file.endswith('.csv'):\n",
    "        df_metal = pd.read_csv('data/raw_data/' + file, usecols=['Name', 'LigandSmiles', 'Metal', 'bondorder'])\n",
    "        coordnumber = pd.concat([coordnumber, df_metal])"
   ]
  },
  {
   "cell_type": "markdown",
   "metadata": {},
   "source": [
    "Canonicalize SMILES and remove duplicates"
   ]
  },
  {
   "cell_type": "code",
   "execution_count": 3,
   "metadata": {},
   "outputs": [],
   "source": [
    "def canonicalize_smiles(smiles):\n",
    "    try:\n",
    "        mol = Chem.MolFromSmiles(smiles, sanitize=False)\n",
    "        return Chem.MolToSmiles(mol)\n",
    "    except:\n",
    "        return np.nan\n",
    "\n",
    "coordnumber['LigandSmiles'] = coordnumber['LigandSmiles'].apply(canonicalize_smiles)\n",
    "coordnumber = coordnumber.dropna()\n",
    "coordnumber = coordnumber.drop_duplicates(subset=['LigandSmiles', 'Metal'])\n",
    "coordnumber = coordnumber.reset_index(drop=True)"
   ]
  },
  {
   "cell_type": "markdown",
   "metadata": {},
   "source": [
    "Replace atom numbers with atomic symbols"
   ]
  },
  {
   "cell_type": "code",
   "execution_count": 4,
   "metadata": {},
   "outputs": [],
   "source": [
    "atom_symbols = {\n",
    "    13: 'Al',\n",
    "    14: 'Si',\n",
    "    15: 'P',\n",
    "    16: 'S',\n",
    "    17: 'Cl',\n",
    "    18: 'Ar',\n",
    "    19: 'K',\n",
    "    20: 'Ca',\n",
    "    21: 'Sc',\n",
    "    22: 'Ti',\n",
    "    23: 'V',\n",
    "    24: 'Cr',\n",
    "    25: 'Mn',\n",
    "    26: 'Fe',\n",
    "    27: 'Co',\n",
    "    28: 'Ni',\n",
    "    29: 'Cu',\n",
    "    30: 'Zn',\n",
    "    31: 'Ga',\n",
    "    32: 'Ge',\n",
    "    33: 'As',\n",
    "    34: 'Se',\n",
    "    35: 'Br',\n",
    "    36: 'Kr',\n",
    "    37: 'Rb',\n",
    "    38: 'Sr',\n",
    "    39: 'Y',\n",
    "    40: 'Zr',\n",
    "    41: 'Nb',\n",
    "    42: 'Mo',\n",
    "    43: 'Tc',\n",
    "    44: 'Ru',\n",
    "    45: 'Rh',\n",
    "    46: 'Pd',\n",
    "    47: 'Ag',\n",
    "    48: 'Cd',\n",
    "    49: 'In',\n",
    "    50: 'Sn',\n",
    "    51: 'Sb',\n",
    "    52: 'Te',\n",
    "    53: 'I',\n",
    "    54: 'Xe',\n",
    "    55: 'Cs',\n",
    "    56: 'Ba',\n",
    "    57: 'La',\n",
    "    58: 'Ce',\n",
    "    59: 'Pr',\n",
    "    60: 'Nd',\n",
    "    61: 'Pm',\n",
    "    62: 'Sm',\n",
    "    63: 'Eu',\n",
    "    64: 'Gd',\n",
    "    65: 'Tb',\n",
    "    66: 'Dy',\n",
    "    67: 'Ho',\n",
    "    68: 'Er',\n",
    "    69: 'Tm',\n",
    "    70: 'Yb',\n",
    "    71: 'Lu',\n",
    "    72: 'Hf',\n",
    "    73: 'Ta',\n",
    "    74: 'W',\n",
    "    75: 'Re',\n",
    "    76: 'Os',\n",
    "    77: 'Ir',\n",
    "    78: 'Pt',\n",
    "    79: 'Au',\n",
    "    80: 'Hg',\n",
    "    81: 'Tl',\n",
    "    82: 'Pb',\n",
    "    83: 'Bi',\n",
    "    84: 'Po',\n",
    "    85: 'At',\n",
    "    86: 'Rn',\n",
    "    87: 'Fr',\n",
    "    88: 'Ra',\n",
    "    89: 'Ac',\n",
    "    90: 'Th',\n",
    "    91: 'Pa',\n",
    "    92: 'U',\n",
    "    93: 'Np',\n",
    "    94: 'Pu',\n",
    "    95: 'Am',\n",
    "    96: 'Cm',\n",
    "    97: 'Bk',\n",
    "    98: 'Cf',\n",
    "    99: 'Es',\n",
    "    100: 'Fm',\n",
    "}\n",
    "\n",
    "coordnumber['Metal'] = coordnumber['Metal'].apply(lambda x: atom_symbols[int(x)])\n",
    "coordnumber = coordnumber[coordnumber['Metal'].isin(['Sc', 'Ti', 'V', 'Cr', 'Mn', 'Fe', 'Co', 'Ni', 'Cu', 'Zn', 'Ga', 'Y', 'Zr', 'Nb', 'Mo', 'Tc', 'Ru', 'Rh', 'Pd', 'Ag', 'Cd', 'In', 'Sn', 'Hf', 'Ta', 'W', 'Re', 'Os', 'Ir', 'Pt', 'Au', 'Hg', 'Tl', 'Pb', 'Bi'])]\n",
    "coordnumber = coordnumber.reset_index(drop=True)"
   ]
  },
  {
   "cell_type": "markdown",
   "metadata": {},
   "source": [
    "#### Dataset: oxidation state classification"
   ]
  },
  {
   "cell_type": "markdown",
   "metadata": {},
   "source": [
    "Import raw data"
   ]
  },
  {
   "cell_type": "code",
   "execution_count": 10,
   "metadata": {},
   "outputs": [],
   "source": [
    "oxidationstate = pd.read_csv('data/sample_new_46_carbenes.txt', sep=',', header=None, names=['smiles', 'Name'])"
   ]
  },
  {
   "cell_type": "markdown",
   "metadata": {},
   "source": [
    "Match data frames on IDs to extract LigandSmiles and Metal columns"
   ]
  },
  {
   "cell_type": "code",
   "execution_count": 11,
   "metadata": {},
   "outputs": [],
   "source": [
    "oxidationstate = pd.merge(oxidationstate, coordnumber[['Name', 'LigandSmiles', 'Metal', 'bondorder']], on='Name', how='left')\n",
    "oxidationstate = oxidationstate.dropna()"
   ]
  },
  {
   "cell_type": "markdown",
   "metadata": {},
   "source": [
    "Oxidation state from the SMILES string"
   ]
  },
  {
   "cell_type": "code",
   "execution_count": 12,
   "metadata": {},
   "outputs": [],
   "source": [
    "def extract_oxidation_state(row):\n",
    "\n",
    "    input_string = row['smiles']\n",
    "    central_atom = row['Metal']\n",
    "    \n",
    "    pattern = fr\"(?<=\\[{central_atom})\\+?-?\\d*(?=\\])\"\n",
    "    match = re.search(pattern, input_string)\n",
    "\n",
    "    if match:\n",
    "        match_string = match.group()\n",
    "        if match_string == '':\n",
    "            return '0'\n",
    "        elif match_string == '+':\n",
    "            return '+1'\n",
    "        elif match_string == '-':\n",
    "            return '-1'\n",
    "        else:\n",
    "            return match_string\n",
    "    else:\n",
    "        return '999'\n",
    "\n",
    "oxidationstate['oxidation_states'] = oxidationstate.apply(extract_oxidation_state, axis=1)\n",
    "oxidationstate = oxidationstate[oxidationstate['oxidation_states'] != '999']"
   ]
  },
  {
   "cell_type": "markdown",
   "metadata": {},
   "source": [
    "Remove data with less than 1000 samples"
   ]
  },
  {
   "cell_type": "code",
   "execution_count": 13,
   "metadata": {},
   "outputs": [],
   "source": [
    "oxidationstate = oxidationstate.groupby('oxidation_states').filter(lambda x: len(x) > 1000)\n",
    "oxidationstate = oxidationstate.sort_values('oxidation_states').reset_index(drop=True)\n",
    "oxidationstate['oxidation_states_classification'] = pd.factorize(oxidationstate['oxidation_states'])[0]"
   ]
  },
  {
   "cell_type": "markdown",
   "metadata": {},
   "source": [
    "Export to csv"
   ]
  },
  {
   "cell_type": "code",
   "execution_count": 14,
   "metadata": {},
   "outputs": [],
   "source": [
    "oxidationstate.to_csv('datasets/oxidationstate_46k.csv', index=False)"
   ]
  },
  {
   "cell_type": "markdown",
   "metadata": {},
   "source": [
    "#### Continue with the coordination number classification dataset"
   ]
  },
  {
   "cell_type": "markdown",
   "metadata": {},
   "source": [
    "Remove data with less than 1000 samples"
   ]
  },
  {
   "cell_type": "code",
   "execution_count": 15,
   "metadata": {},
   "outputs": [],
   "source": [
    "coordnumber = coordnumber.groupby('bondorder').filter(lambda x: len(x) > 1000)\n",
    "coordnumber = coordnumber.reset_index(drop=True)"
   ]
  },
  {
   "cell_type": "markdown",
   "metadata": {},
   "source": [
    "Remove duplicates"
   ]
  },
  {
   "cell_type": "code",
   "execution_count": 16,
   "metadata": {},
   "outputs": [],
   "source": [
    "coordnumber.drop_duplicates(subset=['LigandSmiles', 'Metal'], inplace=True)\n",
    "coordnumber = coordnumber.reset_index(drop=True)"
   ]
  },
  {
   "cell_type": "markdown",
   "metadata": {},
   "source": [
    "Export to csv"
   ]
  },
  {
   "cell_type": "code",
   "execution_count": 17,
   "metadata": {},
   "outputs": [],
   "source": [
    "coordnumber.to_csv('datasets/coordnumber.csv', index=False)"
   ]
  },
  {
   "cell_type": "markdown",
   "metadata": {},
   "source": [
    "Read generated csv file - required to process the next datasets"
   ]
  },
  {
   "cell_type": "code",
   "execution_count": 18,
   "metadata": {},
   "outputs": [],
   "source": [
    "coordnumber = pd.read_csv('datasets/coordnumber.csv')"
   ]
  }
 ],
 "metadata": {
  "kernelspec": {
   "display_name": "chemical_space",
   "language": "python",
   "name": "python3"
  },
  "language_info": {
   "codemirror_mode": {
    "name": "ipython",
    "version": 3
   },
   "file_extension": ".py",
   "mimetype": "text/x-python",
   "name": "python",
   "nbconvert_exporter": "python",
   "pygments_lexer": "ipython3",
   "version": "3.11.9"
  }
 },
 "nbformat": 4,
 "nbformat_minor": 2
}
